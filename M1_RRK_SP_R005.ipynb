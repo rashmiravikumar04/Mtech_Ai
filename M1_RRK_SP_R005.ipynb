{
  "nbformat": 4,
  "nbformat_minor": 0,
  "metadata": {
    "colab": {
      "provenance": [],
      "include_colab_link": true
    },
    "kernelspec": {
      "name": "python3",
      "display_name": "Python 3"
    },
    "language_info": {
      "name": "python"
    }
  },
  "cells": [
    {
      "cell_type": "markdown",
      "metadata": {
        "id": "view-in-github",
        "colab_type": "text"
      },
      "source": [
        "<a href=\"https://colab.research.google.com/github/rashmiravikumar04/Mtech_Ai/blob/main/M1_RRK_SP_R005.ipynb\" target=\"_parent\"><img src=\"https://colab.research.google.com/assets/colab-badge.svg\" alt=\"Open In Colab\"/></a>"
      ]
    },
    {
      "cell_type": "markdown",
      "source": [
        "#**2 marks questions each**"
      ],
      "metadata": {
        "id": "NEl2ytjz9N1m"
      }
    },
    {
      "cell_type": "code",
      "source": [
        "Q1. Write a Code to Display audio in python\n",
        "\n",
        "#ANS\n",
        "import IPython.display as ipd\n",
        "ipd.Audio(audio_path)"
      ],
      "metadata": {
        "id": "rBVR68YT9PDX"
      },
      "execution_count": null,
      "outputs": []
    },
    {
      "cell_type": "code",
      "source": [
        "Q2. Please share atleast 5 recent developments in Speech\n",
        "\n",
        "#ANS\n",
        "# 1)Voice assistants like Siri, Google Assistant, and Alexa ,2)Neural TTS and voice cloning, 3)Real time speech speech translation 4)Voice navigation 5) call centre automation 6) Interactive voice response system\n"
      ],
      "metadata": {
        "id": "jwTO2j4s62AR"
      },
      "execution_count": null,
      "outputs": []
    },
    {
      "cell_type": "code",
      "source": [
        "Q3 What is speech ? What are the aspects of speech? State how speech is different from other data\n",
        "#Ans PPT 2 : 3 slide"
      ],
      "metadata": {
        "id": "xH1kMfZS7Vef"
      },
      "execution_count": null,
      "outputs": []
    },
    {
      "cell_type": "code",
      "source": [
        "Q4 WHat is speech processing and share the flow.\n",
        "\n",
        "#Ans PPT 1:slide 5(end) slide 6"
      ],
      "metadata": {
        "id": "1oJhRKNX7ryY"
      },
      "execution_count": null,
      "outputs": []
    },
    {
      "cell_type": "markdown",
      "source": [
        "#4 marks questions each"
      ],
      "metadata": {
        "id": "3BnMeL-99Wl3"
      }
    },
    {
      "cell_type": "code",
      "source": [
        "Q1. What is language Modelling? Write in short about\n",
        "1. Zero Cross Rating\n",
        "2. Spectral Centroid and roll off\n",
        "3. MFCC\n",
        "\n",
        "Ans : PPT 2"
      ],
      "metadata": {
        "id": "e3hMZGrH9bqT"
      },
      "execution_count": null,
      "outputs": []
    },
    {
      "cell_type": "code",
      "source": [
        "Q2. Write a code for Human Speech Production\n",
        "\n",
        "ANS:\n",
        "!pip install gTTS\n",
        "#(GOOGLE TEXT TO SPEECH)\n",
        "\n",
        "from gtts import gTTS\n",
        "import os\n",
        "\n",
        "text = 'Hello my name is Mayur, I am a Senior data scientist at Kotak Securities'\n",
        "language='en'\n",
        "\n",
        "ipd.Audio('hello.mp3')\n",
        "\n",
        "gtts_object = gTTS(text=text,lang=language,slow=False)\n",
        "\n",
        "gtts_object.save(\"hello.mp3\")"
      ],
      "metadata": {
        "id": "U5Zzgy1z9wp9"
      },
      "execution_count": null,
      "outputs": []
    },
    {
      "cell_type": "code",
      "source": [
        "Q3. Please write a function get_audio_feature_plots to plot\n",
        "1. Waveform\n",
        "2. Mfcc\n",
        "3. Mel Spectrogram\n",
        "\n",
        "ans:\n",
        "def get_audio_feature_plots(path, class_, word, actress):\n",
        "    x, sr = librosa.load(path)\n",
        "    plt.figure(figsize=(20, 5))\n",
        "    plt.title('Waveplot of ' + class_ + ' ' + actress + ' for word ' + word)\n",
        "    plt.plot(x)\n",
        "    plt.show()\n",
        "\n",
        "    plt.figure(figsize=(20, 6))\n",
        "    plt.title('MFCC Spectral of ' + class_ + ' ' + actress + ' for word ' + word)\n",
        "    mfccs = librosa.feature.mfcc(y=x, sr=sr)  # n_mfcc\n",
        "    librosa.display.specshow(mfccs, sr=sr, x_axis='time')\n",
        "    print(mfccs.shape)\n",
        "    plt.show()\n",
        "\n",
        "    plt.figure(figsize=(20, 6))\n",
        "    plt.title('Mel Spectrogram of ' + class_ + ' ' + actress + ' for word ' + word)\n",
        "    mel_spec = librosa.feature.melspectrogram(y=x, sr=sr)\n",
        "    librosa.display.specshow(mel_spec, sr=sr, x_axis='time')\n",
        "    plt.show()\n",
        "\n",
        "get_audio_feature_plots(sample['filename'].values[0], sample['class'].values[0], sample['word'].values[0], sample['actress'].values[0])"
      ],
      "metadata": {
        "id": "60PJDc3d-HUk"
      },
      "execution_count": null,
      "outputs": []
    }
  ]
}